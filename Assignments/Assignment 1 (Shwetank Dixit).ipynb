{
 "cells": [
  {
   "attachments": {
    "image.png": {
     "image/png": "[encoded data removed]"
    }
   },
   "cell_type": "markdown",
   "metadata": {},
   "source": [
    "# Data Analytics and Machine Learning using Python![image.png](attachment:image.png)"
   ]
  },
  {
   "cell_type": "markdown",
   "metadata": {},
   "source": [
    "# Lab Exercise &emsp;   Week-1&emsp; &emsp;Submission Date :- 24 May 2020   Before 6 P.M."
   ]
  },
  {
   "cell_type": "markdown",
   "metadata": {},
   "source": [
    "# Lab-1\n",
    "\n",
    "* Create GitHub Account.\n",
    "* Clone the repository from………………\n",
    "* Add a file to src folder say “Myprofile.txt”\n",
    "* Use < git add > command to add that file to the repository.\n",
    "* Use command to commit your changes. ( write meaningful message with commit)\n",
    "* Use command to send your change in your repository. \n",
    "* Look online and check if changes has been pushed or not.\n",
    "\n",
    "\n",
    "#### After completing above steps write your github repository URL Below\n"
   ]
  },
  {
   "cell_type": "code",
   "execution_count": 2,
   "metadata": {},
   "outputs": [],
   "source": [
    "# Write Github URL "
   ]
  },
  {
   "cell_type": "markdown",
   "metadata": {},
   "source": [
    "# Lab-2 \n",
    "### Write a Python program to input a number from the user and check if it is positive, negative or zero.\n"
   ]
  },
  {
   "cell_type": "code",
   "execution_count": 1,
   "metadata": {},
   "outputs": [
    {
     "name": "stdout",
     "output_type": "stream",
     "text": [
      "5\n",
      "5 is Positive\n"
     ]
    }
   ],
   "source": [
    "n=int(input())\n",
    "if(n>0):\n",
    "    \n",
    "    # If Number is Positive\n",
    "    \n",
    "    print(n,'is Positive')\n",
    "elif(n<0):\n",
    "    \n",
    "    # If Number is Negative\n",
    "    \n",
    "    print(n,'is Negative')\n",
    "else:\n",
    "    \n",
    "    # If Number is Zero\n",
    "    \n",
    "    print(n,'is Zero')\n",
    "\n"
   ]
  },
  {
   "cell_type": "markdown",
   "metadata": {},
   "source": [
    "# Lab-3\n",
    "### Write a Python Program to Find the Largest Among Three Numbers, using the least number of lines of code.\n"
   ]
  },
  {
   "cell_type": "code",
   "execution_count": 3,
   "metadata": {},
   "outputs": [
    {
     "name": "stdout",
     "output_type": "stream",
     "text": [
      "4 6 2\n",
      "Largest of all is  6\n"
     ]
    }
   ],
   "source": [
    "# We store all three number in list\n",
    "\n",
    "l=list(map(int,input().split()))\n",
    "\n",
    "# We use max function in list for finding maximum number in list\n",
    "\n",
    "print('Largest of all is ',max(l))\n",
    "\n",
    "\n",
    "\n"
   ]
  },
  {
   "cell_type": "markdown",
   "metadata": {},
   "source": [
    "# Lab-4\n",
    "### Write a Python program to input a month name and print number of days in it.\n",
    "\n",
    "Eg., January – 31\n",
    "\n",
    "February – 28/29\n"
   ]
  },
  {
   "cell_type": "code",
   "execution_count": 5,
   "metadata": {},
   "outputs": [
    {
     "name": "stdout",
     "output_type": "stream",
     "text": [
      "March\n",
      "March -31\n"
     ]
    }
   ],
   "source": [
    "# Storing month in variable n\n",
    "\n",
    "n=input()\n",
    "\n",
    "# Checking months of 31 days and printing it\n",
    "\n",
    "if(n=='January' or n=='March' or n=='July' or n=='August' or n=='October' or n=='December'):\n",
    "    print(n ,'-31')\n",
    "    \n",
    "# Checking month Fabrury and printing it\n",
    "\n",
    "elif(n=='Fabrury'):\n",
    "    print(n,'-28/29')\n",
    "    \n",
    "# Checking months of 30 days and printing it through else\n",
    "\n",
    "else:\n",
    "    print(n,'-30')\n",
    "    "
   ]
  },
  {
   "cell_type": "markdown",
   "metadata": {},
   "source": [
    "# Lab-5\n",
    "### Write a Python Program to Find the Factorial of a Number.\n",
    "n! = n * n-1 * n-2 * n-3 * …. *3 * 2 * 1\n"
   ]
  },
  {
   "cell_type": "code",
   "execution_count": 9,
   "metadata": {},
   "outputs": [],
   "source": [
    "#Recursive function of factorial\n",
    "\n",
    "def factorial(n):\n",
    "    if(n==1):\n",
    "        return 1\n",
    "    return n * factorial(n-1)\n",
    "\n",
    "# Taking input from user\n",
    "\n",
    "n=int(input())\n",
    "print(factorial(n))\n",
    "\n",
    "\n"
   ]
  },
  {
   "cell_type": "markdown",
   "metadata": {},
   "source": [
    "# Lab-6\n",
    "At a certain school, student email addresses end with <b>@student.college.edu</b>, while professor email addresses end with <b>@prof.college.edu</b> \n",
    "\n",
    "Write a program that first asks the user how many email addresses they will be entering, and then has the user enter those addresses.\n",
    "\n",
    "After all the email addresses are entered, the program should print out a message indicating either that all the addresses are student addresses or that there were some professor addresses entered."
   ]
  },
  {
   "cell_type": "code",
   "execution_count": 8,
   "metadata": {},
   "outputs": [
    {
     "name": "stdout",
     "output_type": "stream",
     "text": [
      "How many email addresses you want to enter :5\n",
      "dfsag@prof.college.edu\n",
      "ddgs@prof.college.edu\n",
      "fdsfdsa@student.college.edu\n",
      "ag@student.college.edu\n",
      "fdfsa@student.college.edu\n",
      "There were 2 Professors and 3 students\n"
     ]
    }
   ],
   "source": [
    "count=0\n",
    "\n",
    "# Taking input from user\n",
    "\n",
    "n=int(input('How many email addresses you want to enter :'))\n",
    "for _ in range(n):\n",
    "    l=input()\n",
    "    \n",
    "# Using split funtion to split from '@'\n",
    "\n",
    "    l1=l.split('@')\n",
    "    \n",
    "# Checking that email is of Professor or not\n",
    "\n",
    "    if(l1[-1]=='prof.college.edu'):\n",
    "        count+=1\n",
    "        \n",
    "# If count !=0 than there were some Professor ids \n",
    "\n",
    "if(count):\n",
    "    print(\"There were\",count,\"Professors and\",n-count,\"students\")\n",
    "    \n",
    "# Else there were all students\n",
    "\n",
    "else:\n",
    "    print(\"There were all students\")\n",
    "    \n",
    "\n",
    "\n"
   ]
  },
  {
   "cell_type": "markdown",
   "metadata": {},
   "source": [
    "# Lab-7\n",
    "### Write a program that accepts a comma separated sequence of words as input and prints the words in a comma-separated sequence after sorting them alphabetically.\n",
    "\n",
    " Suppose the following input is supplied to the program:\n",
    "    \n",
    "    without,hello,bag,world\n",
    "\n",
    "Then, the output should be:\n",
    "\n",
    "    bag,hello,without,world\n"
   ]
  },
  {
   "cell_type": "code",
   "execution_count": 14,
   "metadata": {},
   "outputs": [
    {
     "name": "stdout",
     "output_type": "stream",
     "text": [
      "without,hello,bag,world\n",
      "bag,hello,without,world\n"
     ]
    }
   ],
   "source": [
    "# Taking input from user\n",
    "\n",
    "l=list(map(str,input().split(',')))\n",
    "\n",
    "# Using sort funtion in list\n",
    "\n",
    "l.sort()\n",
    "\n",
    "# Separate list element via join function\n",
    "\n",
    "l=','.join(l)\n",
    "\n",
    "# Printing comma seperated sorted list\n",
    "\n",
    "print(l)\n",
    "\n"
   ]
  },
  {
   "cell_type": "markdown",
   "metadata": {},
   "source": [
    "# Lab-8\n",
    "### Create a function showEmployee() in such a way that it should accept employee name, and it’s salary and display both, and if the salary is missing in function call it should show it as 9000"
   ]
  },
  {
   "cell_type": "code",
   "execution_count": 18,
   "metadata": {},
   "outputs": [
    {
     "name": "stdout",
     "output_type": "stream",
     "text": [
      "Employee Name is :  Shwetank Dixit\n",
      "Employee Salary is :  9000\n",
      "Employee Name is :  Shivam Tyagi\n",
      "Employee Salary is :  1231123\n"
     ]
    }
   ],
   "source": [
    "# Function that prints Employee name and salary. If salary missing than default is given 9000\n",
    "\n",
    "def showEmployee(employee_name,salary=9000):\n",
    "    print(\"Employee Name is : \",employee_name)\n",
    "    print(\"Employee Salary is : \",salary)\n",
    "\n",
    "showEmployee(\"Shwetank Dixit\")\n",
    "showEmployee(\"Shivam Tyagi\",1231123)\n",
    "\n",
    "\n",
    "\n"
   ]
  },
  {
   "cell_type": "markdown",
   "metadata": {},
   "source": [
    "# Lab-9\n",
    "### Create an inner function to calculate the addition in the following way\n",
    "\n",
    "* Create an outer function that will accept two parameters a and b say <b>outerFun(a, b)</b>\n",
    "\n",
    "* Create an inner function(<b>e.g. innerFun(a,b)</b>) inside an outer function that will calculate the addition of a and b \n",
    "* At last, an outer function will add 5 into addition and return it"
   ]
  },
  {
   "cell_type": "code",
   "execution_count": 23,
   "metadata": {},
   "outputs": [
    {
     "name": "stdout",
     "output_type": "stream",
     "text": [
      "4 5\n",
      "14\n"
     ]
    }
   ],
   "source": [
    "def outerFun(a, b):\n",
    "    \n",
    "    def innerFun(a,b):\n",
    "        c=a+b\n",
    "        return c\n",
    "    c=innerFun(a,b)+5\n",
    "    return c\n",
    "\n",
    "# User input\n",
    "\n",
    "a,b=map(int,input().split())\n",
    "print(outerFun(a,b))\n",
    "    \n",
    "\n"
   ]
  },
  {
   "cell_type": "markdown",
   "metadata": {},
   "source": [
    "# Lab-10\n",
    "### Assign a different name to function and call it through the new name\n",
    "\n",
    "Below is the function displayStudent(name, age). Assign a new name showStudent(name, age)  to it and call through the new name"
   ]
  },
  {
   "cell_type": "code",
   "execution_count": 27,
   "metadata": {},
   "outputs": [
    {
     "name": "stdout",
     "output_type": "stream",
     "text": [
      "<function function.<locals>.displayStudent at 0x000001E89A8DA5E8>\n",
      "Age of  Shwetank is 19\n"
     ]
    }
   ],
   "source": [
    "def function():\n",
    "    def displayStudent(name, age):\n",
    "        print('Age of ',name,'is',age)\n",
    "    return displayStudent\n",
    "\n",
    "showStudent=function()\n",
    "\n",
    "print(showStudent)\n",
    "\n",
    "showStudent('Shwetank',19)\n",
    "\n",
    "\n",
    "\n"
   ]
  },
  {
   "cell_type": "markdown",
   "metadata": {},
   "source": [
    "# Lab-11\n",
    "Write a program that gets a string from the user containing a potential telephone number.The program should print Valid if it decides the phone number is a real phone number, and Invalid otherwise. \n",
    "\n",
    "A phone number is considered valid as long as it is written in the form\n",
    "abc-def-hijk or 1-abc-def-hijk. \n",
    "\n",
    "The dashes must be included, the phone number should contain only numbers and dashes, and the number of digits in each group must be correct.\n",
    "\n",
    "Test your program with the output shown below.\n",
    "\n",
    "Enter a phone number: 301-447-5820\n",
    "\n",
    "Valid\n",
    "\n",
    "Enter a phone number: 301-4477-5820\n",
    "\n",
    "Invalid\n",
    "\n",
    "Enter a phone number: 3X1-447-5820\n",
    "\n",
    "Invalid\n",
    "\n",
    "Enter a phone number: 3014475820\n",
    "\n",
    "Invalid"
   ]
  },
  {
   "cell_type": "code",
   "execution_count": 24,
   "metadata": {},
   "outputs": [
    {
     "name": "stdout",
     "output_type": "stream",
     "text": [
      "Enter a phone number: 301-447-5820\n",
      "Valid\n"
     ]
    }
   ],
   "source": [
    "# Taking input through user\n",
    "\n",
    "n=input('Enter a phone number: ')\n",
    "\n",
    "count=0\n",
    "\n",
    "# Its a list storing the ways a number should be in form eg. 301-447-5820   [3,3,4] form \n",
    "\n",
    "check=[[3,3,4],[1,3,3,4]]\n",
    "\n",
    "# Storing ASCII value of 0-9 number\n",
    "\n",
    "check1=[x for x in range(48,58)]\n",
    "\n",
    "# Spliting form '-'\n",
    "\n",
    "l=n.split('-')\n",
    "b=[]\n",
    "\n",
    "\n",
    "for i in l:\n",
    "    b.append(len(i))\n",
    "    \n",
    "# Checking format of number  \n",
    "\n",
    "if b in check:\n",
    "    for i in l:\n",
    "        for j in i:\n",
    "            \n",
    "        # Now checking individual character ie its a digit or non-digit\n",
    "        \n",
    "            if ord(j) not in check1:\n",
    "                \n",
    "                # Setting count variable to 1 if its non-digit number\n",
    "                \n",
    "                count =1\n",
    "                break\n",
    "else:\n",
    "    count=1\n",
    "\n",
    "if(count):\n",
    "    print('Invalid')\n",
    "else:\n",
    "    print('Valid')\n"
   ]
  },
  {
   "cell_type": "code",
   "execution_count": null,
   "metadata": {},
   "outputs": [],
   "source": []
  }
 ],
 "metadata": {
  "kernelspec": {
   "display_name": "Python 3",
   "language": "python",
   "name": "python3"
  },
  "language_info": {
   "codemirror_mode": {
    "name": "ipython",
    "version": 3
   },
   "file_extension": ".py",
   "mimetype": "text/x-python",
   "name": "python",
   "nbconvert_exporter": "python",
   "pygments_lexer": "ipython3",
   "version": "3.7.4"
  }
 },
 "nbformat": 4,
 "nbformat_minor": 2
}
